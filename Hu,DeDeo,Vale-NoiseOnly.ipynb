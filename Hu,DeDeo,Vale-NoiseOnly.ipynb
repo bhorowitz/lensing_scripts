{
 "cells": [
  {
   "cell_type": "code",
   "execution_count": 4,
   "metadata": {
    "collapsed": true,
    "deletable": true,
    "editable": true
   },
   "outputs": [],
   "source": [
    "import numpy as np\n",
    "import vegas as ve\n",
    "from math import *\n",
    "import matplotlib.mlab as mlab\n",
    "import matplotlib.pyplot as plt\n",
    "%matplotlib inline\n",
    "from scipy import interpolate\n",
    "import scipy\n",
    "import pylab"
   ]
  },
  {
   "cell_type": "code",
   "execution_count": 17,
   "metadata": {
    "collapsed": true,
    "deletable": true,
    "editable": true
   },
   "outputs": [],
   "source": [
    "lensed = np.genfromtxt(\"./data/cl/explanatory33_cl_lensed.dat\")"
   ]
  },
  {
   "cell_type": "code",
   "execution_count": 18,
   "metadata": {
    "collapsed": true,
    "deletable": true,
    "editable": true
   },
   "outputs": [],
   "source": [
    "unlensed = np.genfromtxt(\"./data/cl/explanatory33_cl.dat\")"
   ]
  },
  {
   "cell_type": "code",
   "execution_count": 19,
   "metadata": {
    "collapsed": true,
    "deletable": true,
    "editable": true
   },
   "outputs": [],
   "source": [
    "kappa = np.genfromtxt(\"./data/cl/explanatory33_cl_lensed.dat\")"
   ]
  },
  {
   "cell_type": "code",
   "execution_count": 110,
   "metadata": {
    "collapsed": false,
    "deletable": true,
    "editable": true
   },
   "outputs": [],
   "source": [
    "T_cmb = 2.729 \n",
    "#need to convert dimensionless l^2/(2*pi)c_l to dimensionful c_l\n",
    "cl_len = interpolate.interp1d(lensed[:,0],2*np.pi*np.divide(lensed[:,1],np.power(lensed[:,0],2))*10**12*T_cmb**2.0)\n",
    "cl_unlen = interpolate.interp1d(unlensed[:,0],2*np.pi*np.divide(unlensed[:,1],np.power(unlensed[:,0],2))*10**12*T_cmb**2.0)\n",
    "\n",
    "#c_kappakappa = l^4 c_phiphi (but it is already l^2 c_phipih)\n",
    "cl_kapkap = interpolate.interp1d(kappa[:,0],2*np.pi*kappa[:,-3]*kappa[:,0]**2.0/4)"
   ]
  },
  {
   "cell_type": "code",
   "execution_count": 111,
   "metadata": {
    "collapsed": false,
    "deletable": true,
    "editable": true
   },
   "outputs": [
    {
     "data": {
      "text/plain": [
       "[<matplotlib.lines.Line2D at 0x10f3ab290>]"
      ]
     },
     "execution_count": 111,
     "metadata": {},
     "output_type": "execute_result"
    },
    {
     "data": {
      "image/png": "[encoded data removed]",
      "text/plain": [
       "<matplotlib.figure.Figure at 0x110cac950>"
      ]
     },
     "metadata": {},
     "output_type": "display_data"
    }
   ],
   "source": [
    "lmax=20000 #maximum for use\n",
    "plt.loglog(lensed[:lmax,0],cl_len(lensed[:lmax,0]))\n",
    "plt.loglog(unlensed[:lmax,0],cl_unlen(unlensed[:lmax,0]))"
   ]
  },
  {
   "cell_type": "code",
   "execution_count": 112,
   "metadata": {
    "collapsed": false,
    "deletable": true,
    "editable": true
   },
   "outputs": [],
   "source": [
    "def integrand_q(dvec,FWHM,noise_lev,l):\n",
    "  # Hu, De Deo and Vale 2001 (HDV), between equation 17 and 18\n",
    "    l1,phi1= dvec #instead of lx, ly, we are using |l| and phi\n",
    "    l2 = calc_l2(l,l1,phi1) #calculating l2\n",
    "    \n",
    "    T1 = l*l1*cos(phi1) #first term of integral, dot product\n",
    "    T2 = WTT(l1,noise_lev, FWHM) #HDV, eq 21\n",
    "    T3 = WT(l2,noise_lev, FWHM) #HDV, eq 19\n",
    "    T4 = 1.0  #C^T = 1.0\n",
    "    T5 = fTT(l,l1,l2,phi1) #HDV, eq 17\n",
    "    T6 = l #from the change of variables to polar instead of lx, ly\n",
    "    return T1*T2*T3*T4*T5*T6\n",
    "\n",
    "def Cl_noise(l, noise_lev, FWHM):     # noise level in muK-arcmin, and beam FWHM in arcmin\n",
    "\n",
    "    noise_lev = noise_lev * np.pi / (60. * 180)     # convert muK-arcmin to muK-rad\n",
    "    FWHM = FWHM * np.pi / (60. * 180)               # convert arcmin to rad\n",
    "    return noise_lev**2 * np.exp(l*(l+1.) * FWHM**2 / (8. * np.log(2)))\n",
    "\n",
    "def fTT(l,l1,l2,phi1):\n",
    "    #HDV eq 17\n",
    "    try:\n",
    "        return cl_unlen(l1)*l*l1*cos(phi1)+cl_unlen(l2)*(l1*l*cos(phi1)-l1**2.)\n",
    "    except: #exception if outside of interpolation range\n",
    "        return 0.\n",
    "    \n",
    "def WTT(l,noise_lev, FWHM):\n",
    "    if l > 2000: #cutoff from HDV eq 20\n",
    "        return 0.\n",
    "    else: #HDV eq 21\n",
    "        return cl_unlen(l)/(cl_len(l)+Cl_noise(l, noise_lev, FWHM))\n",
    "\n",
    "def WT(l,noise_lev, FWHM):\n",
    "    try: #HDV eq. 19\n",
    "        return 1./(cl_len(l)+Cl_noise(l, noise_lev, FWHM))\n",
    "    except: #exception if outside of integration range, could alternatively \n",
    "        #just assume C_l is smaller than noise (and only use noise), but not really valid for low-noise limit\n",
    "        return 0.0#1./(Cl_noise(l, noise_lev, FWHM))\n",
    "\n",
    "def calc_l2(l,l1,phi1): #law of cosines\n",
    "    return sqrt(l**2.+l1**2.-2.*l1*l*cos(phi1))\n"
   ]
  },
  {
   "cell_type": "code",
   "execution_count": 118,
   "metadata": {
    "collapsed": false,
    "deletable": true,
    "editable": true
   },
   "outputs": [],
   "source": [
    "global noise_lev\n",
    "global FWHM\n",
    "def noise_curve(noise,FWHM_in,lrange = np.logspace(log10(20),log10(20000),20)):\n",
    "    def integrand_nl(dvec):\n",
    "        return integrand_q(dvec,FWHM_in,noise,lq)\n",
    "    integ = ve.Integrator([[10, 20000], [0, 2*np.pi]])\n",
    "    results = np.zeros(20)\n",
    "    global lq\n",
    "    for i,l in enumerate(lrange):\n",
    "        lq = l\n",
    "        #note from equation 17/18 we take out the (2*np.pi)^2 outside of the integral\n",
    "        #2/l^2 prefactor\n",
    "        result = 2*integ(integrand_nl, nitn=10, neval=1000)/l**2/(2*np.pi)**2\n",
    "        print i,l, result.val\n",
    "        results[i]=result.val \n",
    "    Att = interpolate.interp1d(lrange,1./results) #need to invert final result \n",
    "    return Att"
   ]
  },
  {
   "cell_type": "code",
   "execution_count": 119,
   "metadata": {
    "collapsed": false,
    "deletable": true,
    "editable": true
   },
   "outputs": [
    {
     "name": "stdout",
     "output_type": "stream",
     "text": [
      "0 20.0 8835786236.6\n",
      "1 28.7689977658 25362799210.8\n",
      "2 41.3827616223 34902139806.7\n",
      "3 59.5270288326 45209043718.7\n",
      "4 85.6266479744 65438676645.3\n",
      "5 123.169642213 1.00137551031e+11\n",
      "6 177.173358082 1.46084883911e+11\n",
      "7 254.854997141 2.25595272384e+11\n",
      "8 366.596142166 3.61646519937e+11\n",
      "9 527.330179746 6.78602425701e+11\n",
      "10 758.538038146 1.59128449345e+12\n",
      "11 1091.11895623 5.24638958381e+12\n",
      "12 1569.5199407 2.68718718005e+13\n",
      "13 2257.67578337 2.49304101634e+14\n",
      "14 3247.55347838 3.04376736282e+15\n",
      "15 4671.44293818 3.1949837329e+16\n",
      "16 6719.63657257 1.3576449846e+17\n",
      "17 9665.86047714 2.73577150467e+17\n",
      "18 13903.8559236 3.90558148845e+17\n",
      "19 20000.0 4.31807629628e+17\n"
     ]
    }
   ],
   "source": [
    "um1b = noise_curve(1.,  18./60.)"
   ]
  },
  {
   "cell_type": "code",
   "execution_count": 120,
   "metadata": {
    "collapsed": false,
    "deletable": true,
    "editable": true
   },
   "outputs": [
    {
     "name": "stdout",
     "output_type": "stream",
     "text": [
      "0 20.0 15571863105.6\n",
      "1 28.7689977658 22534733429.6\n",
      "2 41.3827616223 31353604648.1\n",
      "3 59.5270288326 43693436532.0\n",
      "4 85.6266479744 68894606141.3\n",
      "5 123.169642213 95138243685.4\n",
      "6 177.173358082 1.47590771354e+11\n",
      "7 254.854997141 2.21961693758e+11\n",
      "8 366.596142166 3.6149904366e+11\n",
      "9 527.330179746 6.81023207546e+11\n",
      "10 758.538038146 1.6905838725e+12\n",
      "11 1091.11895623 5.34410940724e+12\n",
      "12 1569.5199407 2.46908825798e+13\n",
      "13 2257.67578337 1.60577853313e+14\n",
      "14 3247.55347838 1.04849560287e+15\n",
      "15 4671.44293818 3.83690385256e+15\n",
      "16 6719.63657257 6.45900968901e+15\n",
      "17 9665.86047714 8.85819487289e+15\n",
      "18 13903.8559236 1.10822673009e+16\n",
      "19 20000.0 1.1891339746e+16\n"
     ]
    }
   ],
   "source": [
    "um6b = noise_curve(6.,  18./60.)"
   ]
  },
  {
   "cell_type": "code",
   "execution_count": 121,
   "metadata": {
    "collapsed": false,
    "deletable": true,
    "editable": true
   },
   "outputs": [
    {
     "name": "stdout",
     "output_type": "stream",
     "text": [
      "0 20.0 11021851119.3\n",
      "1 28.7689977658 21145776911.1\n",
      "2 41.3827616223 33550090589.6\n",
      "3 59.5270288326 50771292030.7\n",
      "4 85.6266479744 66209902698.5\n",
      "5 123.169642213 94490587616.9\n",
      "6 177.173358082 1.50788086113e+11\n",
      "7 254.854997141 2.24774992113e+11\n",
      "8 366.596142166 3.89923062458e+11\n",
      "9 527.330179746 7.45185710898e+11\n",
      "10 758.538038146 1.72938077309e+12\n",
      "11 1091.11895623 5.65878948258e+12\n",
      "12 1569.5199407 2.87036033434e+13\n",
      "13 2257.67578337 2.49918521486e+14\n",
      "14 3247.55347838 3.30415809473e+15\n",
      "15 4671.44293818 4.40591172081e+16\n",
      "16 6719.63657257 3.47266442317e+17\n",
      "17 9665.86047714 2.01062163692e+18\n",
      "18 13903.8559236 1.02329408491e+19\n",
      "19 20000.0 3.07571378222e+19\n"
     ]
    }
   ],
   "source": [
    "um01b = noise_curve(0.1, 18./60.)"
   ]
  },
  {
   "cell_type": "code",
   "execution_count": 122,
   "metadata": {
    "collapsed": false,
    "deletable": true,
    "editable": true
   },
   "outputs": [
    {
     "name": "stdout",
     "output_type": "stream",
     "text": [
      "0 20.0 20962495063.1\n",
      "1 28.7689977658 23289728706.2\n",
      "2 41.3827616223 35676412248.7\n",
      "3 59.5270288326 47421721303.6\n",
      "4 85.6266479744 65505256686.2\n",
      "5 123.169642213 98636956296.7\n",
      "6 177.173358082 1.46717166562e+11\n",
      "7 254.854997141 2.24789910842e+11\n",
      "8 366.596142166 3.87746366213e+11\n",
      "9 527.330179746 7.35940653702e+11\n",
      "10 758.538038146 1.74909500283e+12\n",
      "11 1091.11895623 5.67204458134e+12\n",
      "12 1569.5199407 2.89606583974e+13\n",
      "13 2257.67578337 2.50062514043e+14\n",
      "14 3247.55347838 3.39973909903e+15\n",
      "15 4671.44293818 4.4619109366e+16\n",
      "16 6719.63657257 3.51595959905e+17\n",
      "17 9665.86047714 2.17608963382e+18\n",
      "18 13903.8559236 1.41322638858e+19\n",
      "19 20000.0 1.49474748799e+20\n"
     ]
    }
   ],
   "source": [
    "um_no = noise_curve(0.0, 18./60.)"
   ]
  },
  {
   "cell_type": "code",
   "execution_count": 127,
   "metadata": {
    "collapsed": false,
    "deletable": true,
    "editable": true
   },
   "outputs": [
    {
     "data": {
      "text/plain": [
       "(40, 20000)"
      ]
     },
     "execution_count": 127,
     "metadata": {},
     "output_type": "execute_result"
    },
    {
     "data": {
      "image/png": "[encoded data removed]",
      "text/plain": [
       "<matplotlib.figure.Figure at 0x111e6fed0>"
      ]
     },
     "metadata": {},
     "output_type": "display_data"
    }
   ],
   "source": [
    "pylab.rcParams['figure.figsize'] = (8., 6.0)\n",
    "lrange = np.logspace(log10(20),log10(20000),20)\n",
    "fact = lrange**2./4 #convert from N_dd to N_kappakapp according to unpublished paper\n",
    "plt.loglog(lrange,um_no(lrange)*fact,label=\"$\\Delta_T = 0.0$\")\n",
    "plt.loglog(lrange,um01b(lrange)*fact,label=\"$\\Delta_T = 0.1$\")\n",
    "plt.loglog(lrange,um1b(lrange)*fact,label=\"$\\Delta_T = 1.$\")\n",
    "plt.loglog(lrange,um6b(lrange)*fact,label=\"$\\Delta_T = 6.$\")\n",
    "plt.legend(loc=3)\n",
    "plt.ylabel(\"$N^{\\kappa\\kappa}_\\ell$\")\n",
    "plt.xlabel(\"$\\ell$\")\n",
    "plt.plot(kappa[:,0],cl_phi(kappa[:,0]))\n",
    "plt.xlim([40,20000])"
   ]
  },
  {
   "cell_type": "code",
   "execution_count": null,
   "metadata": {
    "collapsed": true
   },
   "outputs": [],
   "source": []
  }
 ],
 "metadata": {
  "kernelspec": {
   "display_name": "Python 2",
   "language": "python",
   "name": "python2"
  },
  "language_info": {
   "codemirror_mode": {
    "name": "ipython",
    "version": 2
   },
   "file_extension": ".py",
   "mimetype": "text/x-python",
   "name": "python",
   "nbconvert_exporter": "python",
   "pygments_lexer": "ipython2",
   "version": "2.7.10"
  }
 },
 "nbformat": 4,
 "nbformat_minor": 0
}
